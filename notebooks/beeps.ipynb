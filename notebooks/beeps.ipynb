{
 "cells": [
  {
   "cell_type": "code",
   "execution_count": 1,
   "metadata": {},
   "outputs": [],
   "source": [
    "import matplotlib\n",
    "\n",
    "import numpy as np\n",
    "import datetime\n",
    "import time\n",
    "import datetime\n",
    "import serial\n",
    "\n",
    "#import sounddevice as sd\n",
    "\n",
    "import sys\n",
    "#sys.path.append('/home/cat/Downloads/spinnaker_python-1.27.0.48-Ubuntu18.04-cp37-cp37m-linux_x86_64/Examples/Python3/')\n"
   ]
  },
  {
   "cell_type": "code",
   "execution_count": 2,
   "metadata": {},
   "outputs": [],
   "source": [
    "#import PySpin\n",
    "import serial\n",
    "ser_speaker = serial.Serial(\n",
    "    port='COM4',\n",
    "    baudrate = 9600,\n",
    "    #baudrate = 300,\n",
    "    parity='N',\n",
    "    stopbits=1,\n",
    "    bytesize=8,\n",
    "    timeout=1\n",
    ")\n",
    "\n",
    "# ser_led = serial.Serial(\n",
    "#     port='/dev/ttyUSB4',\n",
    "#     baudrate = 20000,\n",
    "#     parity='N',\n",
    "#     stopbits=1,\n",
    "#     bytesize=8,\n",
    "#     timeout=1\n",
    "# )\n"
   ]
  },
  {
   "cell_type": "code",
   "execution_count": 3,
   "metadata": {},
   "outputs": [
    {
     "name": "stdout",
     "output_type": "stream",
     "text": [
      "click time  0  sec\n",
      "click time  1  sec\n",
      "click time  2  sec\n",
      "click time  3  sec\n",
      "click time  4  sec\n",
      "Times clicked:  [0.0010211467742919922, 1.0004770755767822, 2.000899076461792, 3.00034499168396, 4.000791072845459]\n"
     ]
    }
   ],
   "source": [
    "# launch \n",
    "duration = 5\n",
    "ctr=1\n",
    "pc_time_utc_sec = datetime.datetime.utcnow().timestamp()\n",
    "\n",
    "times_click = np.arange(duration)\n",
    "times_idx = 0\n",
    "times = []\n",
    "while True:\n",
    "    now = datetime.datetime.utcnow().timestamp()\n",
    "\n",
    "    #if (now -pc_time_utc_sec)> ctr:\n",
    "    if (now -pc_time_utc_sec)> times_click[times_idx]:\n",
    "        #ser_led.write(b'0x00')     # trigger camera\n",
    "        #ser_speaker.write(b'0x00')     # trigger camera\n",
    "        ser_speaker.write(b'0x00')     # trigger camera\n",
    "        \n",
    "        times.append(now-pc_time_utc_sec)\n",
    "        #print (\"  Done waiting \")\n",
    "        print (\"click time \", times_click[times_idx], \" sec\")\n",
    "        #beep(1)\n",
    "        times_idx+=1            \n",
    "\n",
    "    if times_idx>=len(times_click):\n",
    "        break\n",
    "    if (now -pc_time_utc_sec)> duration:\n",
    "        break\n",
    "\n",
    "print (\"Times clicked: \", times)\n",
    "#np.savetxt('/mnt/53abab64-8e58-435f-ae3f-45613b0ecb71/may_12_60sectests/time_str_'+\\\n",
    "#            str(round(np.random.rand(),6))+'.txt',times)"
   ]
  },
  {
   "cell_type": "code",
   "execution_count": null,
   "metadata": {},
   "outputs": [],
   "source": []
  }
 ],
 "metadata": {
  "kernelspec": {
   "display_name": "Python 3",
   "language": "python",
   "name": "python3"
  },
  "language_info": {
   "codemirror_mode": {
    "name": "ipython",
    "version": 3
   },
   "file_extension": ".py",
   "mimetype": "text/x-python",
   "name": "python",
   "nbconvert_exporter": "python",
   "pygments_lexer": "ipython3",
   "version": "3.7.0"
  }
 },
 "nbformat": 4,
 "nbformat_minor": 4
}
