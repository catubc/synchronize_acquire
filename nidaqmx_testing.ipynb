{
 "cells": [
  {
   "cell_type": "code",
   "execution_count": 1,
   "metadata": {},
   "outputs": [
    {
     "data": {
      "application/javascript": [
       "IPython.notebook.set_autosave_interval(180000)"
      ]
     },
     "metadata": {},
     "output_type": "display_data"
    },
    {
     "name": "stdout",
     "output_type": "stream",
     "text": [
      "Autosaving every 180 seconds\n"
     ]
    }
   ],
   "source": [
    "import nidaqmx\n",
    "import numpy as np\n",
    "import matplotlib.pyplot as plt\n",
    "%matplotlib qt\n",
    "%autosave 180\n",
    "\n",
    "from IPython.core.display import display, HTML\n"
   ]
  },
  {
   "cell_type": "code",
   "execution_count": 2,
   "metadata": {},
   "outputs": [
    {
     "name": "stdout",
     "output_type": "stream",
     "text": [
      "250000\n",
      "Location:  animals\n",
      "(4, 150000000)\n"
     ]
    }
   ],
   "source": [
    "import nidaqmx\n",
    "from nidaqmx.constants import AcquisitionType\n",
    "import matplotlib.pyplot as plt\n",
    "\n",
    "location = 'animals'\n",
    "sample_time = 60*10  # units = seconds\n",
    "s_freq = 250000\n",
    "print (s_freq)\n",
    "print (\"Location: \", location)\n",
    "num_samples = sample_time*s_freq\n",
    "dt = 1/s_freq\n",
    "\n",
    "with nidaqmx.Task() as task:\n",
    "    task.ai_channels.add_ai_voltage_chan(\"Dev1/ai0\")\n",
    "    task.ai_channels.add_ai_voltage_chan(\"Dev1/ai1\")\n",
    "    task.ai_channels.add_ai_voltage_chan(\"Dev1/ai2\")\n",
    "    task.ai_channels.add_ai_voltage_chan(\"Dev1/ai3\")\n",
    "    \n",
    "    task.timing.cfg_samp_clk_timing(s_freq,\n",
    "                                   sample_mode = AcquisitionType.CONTINUOUS)\n",
    "    \n",
    "    \n",
    "    data1 = task.read(number_of_samples_per_channel=num_samples, timeout = nidaqmx.constants.WAIT_INFINITELY)\n",
    "\n",
    "data1=np.array(data1)\n",
    "print (data1.shape)\n",
    "np.save('C:\\data\\location_'+location+\"_\"+str(sample_time)+'sec.npy', data1)"
   ]
  },
  {
   "cell_type": "code",
   "execution_count": 8,
   "metadata": {},
   "outputs": [
    {
     "name": "stdout",
     "output_type": "stream",
     "text": [
      "(4, 1250000)\n"
     ]
    }
   ],
   "source": [
    "data1=np.array(data1)\n",
    "print (data1.shape)\n",
    "np.save('C:\\data\\location_'+str(location), data1)"
   ]
  },
  {
   "cell_type": "code",
   "execution_count": 3,
   "metadata": {},
   "outputs": [
    {
     "name": "stdout",
     "output_type": "stream",
     "text": [
      "2 655360\n"
     ]
    }
   ],
   "source": [
    "print (len(data1), len(data1[0]))\n",
    "data1 = np.array(data1)"
   ]
  },
  {
   "cell_type": "code",
   "execution_count": 7,
   "metadata": {},
   "outputs": [
    {
     "data": {
      "image/png": "[encoded data removed]",
      "text/plain": [
       "<Figure size 432x288 with 1 Axes>"
      ]
     },
     "metadata": {
      "needs_background": "light"
     },
     "output_type": "display_data"
    }
   ],
   "source": [
    "# plot data \n",
    "t = np.arange(len(data1[0]))/float(s_freq)\n",
    "ax=plt.subplot(1,2,1)\n",
    "plt.plot(t, data1[1])\n",
    "\n",
    "# ax=plt.subplot(1,2,2)\n",
    "\n",
    "# P, extent = Specgram(data = data1[1], sampfreq = s_freq, \n",
    "#                     p0=-300, f0=0.1, f1=s_freq, \n",
    "#                     width=0.01, tres = 0.005)\n",
    "# plt.imshow(P,extent=extent, aspect='auto')     \n",
    "plt.show()\n"
   ]
  },
  {
   "cell_type": "code",
   "execution_count": 25,
   "metadata": {},
   "outputs": [
    {
     "name": "stdout",
     "output_type": "stream",
     "text": [
      "(4, 3750000)\n"
     ]
    }
   ],
   "source": [
    "data = np.load('C:\\data\\location_8_15sec.npy')\n",
    "print (data.shape)"
   ]
  },
  {
   "cell_type": "code",
   "execution_count": 29,
   "metadata": {},
   "outputs": [],
   "source": [
    "%matplotlib tk\n",
    "t = np.arange(data[0].shape[0])/250000.\n",
    "fig=plt.figure(figsize=(30,30))\n",
    "start = int(2.23*250000)\n",
    "end = int(2.235*250000)\n",
    "for k in range(4):\n",
    "    plt.plot(t[start:end],data[k,start:end]+k*0.1,alpha=.6)\n",
    "plt.savefig('C:\\data\\plot.png', dpi=100)\n",
    "#plt.show()\n",
    "plt.close()\n",
    "    "
   ]
  },
  {
   "cell_type": "code",
   "execution_count": null,
   "metadata": {},
   "outputs": [],
   "source": []
  },
  {
   "cell_type": "code",
   "execution_count": 5,
   "metadata": {},
   "outputs": [],
   "source": [
    "#Function that computes power spetrum density (PSD) and specgrams for ephys data. \n",
    "# \n",
    "\n",
    "import struct\n",
    "import numpy as np\n",
    "import os\n",
    "import matplotlib.pyplot as plt\n",
    "import matplotlib as mpl\n",
    "\n",
    "def Specgram(data, sampfreq, p0=-40, f0 = 0.1, f1 = 110,\n",
    "             width = 2, tres=0.5):\n",
    "\n",
    "    t0=None\n",
    "    t1=None\n",
    "    #f0=0.1\n",
    "    #f1=110\n",
    "    #p0=-60\n",
    "    p1=None\n",
    "    #chanis=-1\n",
    "    #width=2\n",
    "    #tres=.5\n",
    "    #cm=None\n",
    "    #colorbar=False\n",
    "    #title=True\n",
    "    #figsize=(20, 6.5)\n",
    "    \n",
    "    P0, P1 = None, None\n",
    "\n",
    "    #sampfreq=SampleFrequency #1KHZ LFP SAMPLE RATE for Nick's data; Otherwise full sample rates;\n",
    "\n",
    "    #NFFT = intround(width * sampfreq)\n",
    "    #NOVERLAP = intround(NFFT - tres * SAMPFREQ)\n",
    "\n",
    "    length = len(data)\n",
    "\n",
    "    ts = np.arange(0,len(data),1.0)/sampfreq\n",
    "\n",
    "    if t0 == None:\n",
    "        t0, t1 = ts[0], ts[-1] # full duration\n",
    "    #if t1 == None:\n",
    "    #    t1 = t0 + 10 # 10 sec window\n",
    "    if width == None:\n",
    "        width = uns['LFPWIDTH'] # sec\n",
    "    if tres == None:\n",
    "        tres = uns['LFPTRES'] # sec\n",
    "    assert tres <= width\n",
    "\n",
    "    NFFT = intround(width * sampfreq)\n",
    "    noverlap = intround(NFFT - tres * sampfreq)\n",
    "\n",
    "    t0i, t1i = ts.searchsorted((t0, t1))\n",
    "\n",
    "    #data = filter.notch(data)[0] # remove 60 Hz mains noise\n",
    "\n",
    "    print (\"Computing regular fft specgram\")\n",
    "    P, freqs, t = mpl.mlab.specgram(data/1e3, NFFT=NFFT, Fs=sampfreq, noverlap=noverlap)\n",
    "    \n",
    "    # convert t to time from start of acquisition:\n",
    "    t += t0\n",
    "    # keep only freqs between f0 and f1:\n",
    "    if f0 == None:\n",
    "        f0 = freqs[0]\n",
    "    if f1 == None:\n",
    "        f1 = freqs[-1]\n",
    "    lo, hi = freqs.searchsorted([f0, f1])\n",
    "    P, freqs = P[lo:hi], freqs[lo:hi]\n",
    "    #print P\n",
    "    \n",
    "    # check for and replace zero power values (ostensibly due to gaps in recording)\n",
    "    # before attempting to convert to dB:\n",
    "    zis = np.where(P == 0.0) # row and column indices where P has zero power\n",
    "    if len(zis[0]) > 0: # at least one hit\n",
    "        P[zis] = np.finfo(np.float64).max # temporarily replace zeros with max float  #CAT: This can probably be unhacked using nanmax or masked arrays\n",
    "        minnzval = P.min() # get minimum nonzero value\n",
    "        P[zis] = minnzval # replace with min nonzero values\n",
    "    P = 10. * np.log10(P) # convert power to dB wrt 1 mV^2?\n",
    "\n",
    "    # for better visualization, clip power values to within (p0, p1) dB\n",
    "    if p0 != None:\n",
    "        P[P < p0] = p0\n",
    "    if p1 != None:\n",
    "        P[P > p1] = p1\n",
    "\n",
    "    extent = ts[0], ts[-1], freqs[0], freqs[-1]\n",
    "\n",
    "    return P[::-1], extent\n",
    "\n",
    "  \n",
    "def intround( n):\n",
    "    \"\"\"Round to the nearest integer, return an integer. Works on arrays.\n",
    "    Saves on parentheses, nothing more\"\"\"\n",
    "    if iterable(n): # it's a sequence, return as an int64 array\n",
    "        return np.int64(np.round(n))\n",
    "    else: # it's a scalar, return as normal Python int\n",
    "        return int(round(n))\n",
    "            \n",
    "def iterable(x):\n",
    "    \"\"\"Check if the input is iterable, stolen from numpy.iterable()\"\"\"\n",
    "    try:\n",
    "        iter(x)\n",
    "        return True\n",
    "    except:\n",
    "        return False"
   ]
  },
  {
   "cell_type": "code",
   "execution_count": 55,
   "metadata": {},
   "outputs": [
    {
     "name": "stdout",
     "output_type": "stream",
     "text": [
      "250000\n",
      "2.5 -2.5\n",
      "2.5 -2.5\n"
     ]
    }
   ],
   "source": [
    "import nidaqmx\n",
    "import sys\n",
    "\n",
    "import matplotlib.pyplot as plt\n",
    "import PySpin\n",
    "import simpleaudio as sa\n",
    "from nidaqmx.constants import AcquisitionType, Edge\n",
    "\n",
    "s_freq = 250000\n",
    "print (s_freq)\n",
    "#print (\"Location: \", root_dir)\n",
    "duration = 10\n",
    "num_samples = duration*s_freq\n",
    "dt = 1/s_freq\n",
    "\n",
    "\n",
    "\n",
    "with nidaqmx.Task() as task:\n",
    "    ai_channel_1 = task.ai_channels.add_ai_voltage_chan(\"Dev1/ai0\",\n",
    "                                                     max_val=2.5,\n",
    "                                                     min_val=-2.5)\n",
    "\n",
    "    ai_channel_2 = task.ai_channels.add_ai_voltage_chan(\"Dev1/ai1\",\n",
    "                                                    min_val=-2.5,\n",
    "                                                    max_val=2.5)\n",
    "    #task.ai_channels.all.ai_max = 2.5\n",
    "    #task.ai_channels.all.ai_min = -2.5\n",
    "    nidaqmx._task_modules.channels.ai_channel.AIChannel.ai_max = 2.5\n",
    "    nidaqmx._task_modules.channels.ai_channel.AIChannel.ai_min = -2.5\n",
    "\n",
    "    print (ai_channel_1.ai_max, ai_channel_1.ai_min)\n",
    "            \n",
    "            \n",
    "    #task.ao_channels.add_ao_voltage_chan(\"Dev1/ai0\")\n",
    "    print (task.ai_channels.all.ai_max, task.ai_channels.all.ai_min)\n",
    "\n",
    "    #data1 = task.read(number_of_samples_per_channel=num_samples, timeout = nidaqmx.constants.WAIT_INFINITELY)\n",
    "\n",
    "    #data1=np.array(data1)\n",
    "    #print (data1.shape)\n",
    "    #np.save(fname_out, data1)"
   ]
  },
  {
   "cell_type": "code",
   "execution_count": 71,
   "metadata": {},
   "outputs": [],
   "source": [
    "import playsound\n",
    "wav_fname =r'C:\\data\\data\\waves\\audiocheck.net_sin_7000Hz_0dBFS_5s.wav'\n",
    "playsound.playsound(wav_fname)\n"
   ]
  },
  {
   "cell_type": "code",
   "execution_count": 140,
   "metadata": {},
   "outputs": [],
   "source": [
    "data_48db = np.load(r'D:\\july_15_outside_7000Hz\\audio\\2020-07-15_11_45_38.077081_audio_5V_TDT_48db.npy')\n",
    "data_24db = np.load(r'D:\\july_15_outside_7000Hz\\audio\\2020-07-15_11_31_50.170885_audio_5V_TDT_24db.npy')\n",
    "data_clap = np.load(r'D:\\july_15_outside_7000Hz\\audio\\2020-07-15_11_52_40.539353_audio.npy')\n",
    "data_7Khz = np.load(r'D:\\july_15_outside_7000Hz\\audio\\2020-07-15_12_15_53.350279_audio.npy')\n",
    "data_usv = np.load(r'D:\\july_15_outside_USV_6\\audio\\2020-07-15_12_11_20.592380_audio_noSound_cage.npy')\n",
    "#print (data.shape)"
   ]
  },
  {
   "cell_type": "code",
   "execution_count": 141,
   "metadata": {},
   "outputs": [
    {
     "name": "stdout",
     "output_type": "stream",
     "text": [
      "Computing regular fft specgram\n"
     ]
    }
   ],
   "source": [
    "#ax=plt.subplot(1,2,2)\n",
    "from Specgram.Specgram import Specgram\n",
    "s_freq = 250000\n",
    "P, extent = Specgram(data = data_7Khz[0], sampfreq = s_freq, \n",
    "                    p0=-300, f0=0.1, f1=s_freq, \n",
    "                    width=0.01, tres = 0.005)\n",
    "plt.imshow(P,extent=extent, aspect='auto')   \n",
    "plt.show()"
   ]
  },
  {
   "cell_type": "code",
   "execution_count": 7,
   "metadata": {},
   "outputs": [],
   "source": [
    "data = np.load(r'D:\\july_15_epoch_tests\\audio\\2020-07-15_15_34_25.614427_audio.npy')"
   ]
  },
  {
   "cell_type": "code",
   "execution_count": 8,
   "metadata": {},
   "outputs": [],
   "source": [
    "#plt.plot(data_24db[0]*10.)\n",
    "#plt.plot(data_48db[0]+0.5)\n",
    "for k in range(5):\n",
    "    ax=plt.subplot(2,3,k+1)\n",
    "    plt.plot(data[k])\n",
    "plt.show()"
   ]
  },
  {
   "cell_type": "code",
   "execution_count": null,
   "metadata": {},
   "outputs": [],
   "source": []
  },
  {
   "cell_type": "code",
   "execution_count": 100,
   "metadata": {},
   "outputs": [],
   "source": [
    "ax=plt.subplot(1,2,1)\n",
    "plt.hist(data_24db[0],bins=np.arange(-0.1,+0.1,0.001))\n",
    "ax=plt.subplot(1,2,2)\n",
    "plt.hist(data_48db[0],bins=np.arange(-0.1,+0.1,0.001)*10)\n",
    "plt.show()\n"
   ]
  },
  {
   "cell_type": "code",
   "execution_count": null,
   "metadata": {},
   "outputs": [],
   "source": []
  }
 ],
 "metadata": {
  "kernelspec": {
   "display_name": "Python 3",
   "language": "python",
   "name": "python3"
  },
  "language_info": {
   "codemirror_mode": {
    "name": "ipython",
    "version": 3
   },
   "file_extension": ".py",
   "mimetype": "text/x-python",
   "name": "python",
   "nbconvert_exporter": "python",
   "pygments_lexer": "ipython3",
   "version": "3.7.0"
  }
 },
 "nbformat": 4,
 "nbformat_minor": 4
}
